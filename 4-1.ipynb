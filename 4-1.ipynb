{
 "cells": [
  {
   "cell_type": "code",
   "execution_count": 1,
   "metadata": {},
   "outputs": [
    {
     "name": "stderr",
     "output_type": "stream",
     "text": [
      "c:\\program files\\python36\\lib\\site-packages\\h5py\\__init__.py:36: FutureWarning: Conversion of the second argument of issubdtype from `float` to `np.floating` is deprecated. In future, it will be treated as `np.float64 == np.dtype(float).type`.\n",
      "  from ._conv import register_converters as _register_converters\n"
     ]
    }
   ],
   "source": [
    "import numpy as np\n",
    "import h5py\n",
    "import matplotlib.pyplot as plt"
   ]
  },
  {
   "cell_type": "code",
   "execution_count": 2,
   "metadata": {},
   "outputs": [],
   "source": [
    "%matplotlib inline\n",
    "plt.rcParams['figure.figsize']=(5.0,4.0)\n",
    "plt.rcParams['image.interpolation']='nearest'\n",
    "plt.rcParams['image.cmap']='gray'\n",
    "\n",
    "%load_ext autoreload\n",
    "%autoreload 2\n",
    "\n",
    "np.random.seed(1)"
   ]
  },
  {
   "cell_type": "code",
   "execution_count": 3,
   "metadata": {},
   "outputs": [],
   "source": [
    "def zero_pad(X,pad):\n",
    "    X_pad=np.pad(X,((0,0),(pad,pad),(pad,pad),(0,0)),'constant')\n",
    "    \n",
    "    return X_pad"
   ]
  },
  {
   "cell_type": "code",
   "execution_count": 4,
   "metadata": {},
   "outputs": [
    {
     "name": "stdout",
     "output_type": "stream",
     "text": [
      "x.shape = (4, 3, 3, 2)\n",
      "x_pad.shape = (4, 7, 7, 2)\n",
      "x[1,1] = [[ 0.90085595 -0.68372786]\n",
      " [-0.12289023 -0.93576943]\n",
      " [-0.26788808  0.53035547]]\n",
      "x_pad[1,1] = [[0. 0.]\n",
      " [0. 0.]\n",
      " [0. 0.]\n",
      " [0. 0.]\n",
      " [0. 0.]\n",
      " [0. 0.]\n",
      " [0. 0.]]\n"
     ]
    },
    {
     "data": {
      "text/plain": [
       "<matplotlib.image.AxesImage at 0x1bc76224c88>"
      ]
     },
     "execution_count": 4,
     "metadata": {},
     "output_type": "execute_result"
    },
    {
     "data": {
      "image/png": "[encoded data removed]",
      "text/plain": [
       "<matplotlib.figure.Figure at 0x1bc7415f160>"
      ]
     },
     "metadata": {},
     "output_type": "display_data"
    }
   ],
   "source": [
    "np.random.seed(1)\n",
    "x=np.random.randn(4,3,3,2)\n",
    "x_pad=zero_pad(x,2)\n",
    "print (\"x.shape =\", x.shape)\n",
    "print (\"x_pad.shape =\", x_pad.shape)\n",
    "print (\"x[1,1] =\", x[1,1])\n",
    "print (\"x_pad[1,1] =\", x_pad[1,1])\n",
    "\n",
    "fig, axarr = plt.subplots(1, 2)\n",
    "axarr[0].set_title('x')\n",
    "axarr[0].imshow(x[0,:,:,0])\n",
    "axarr[1].set_title('x_pad')\n",
    "axarr[1].imshow(x_pad[0,:,:,0])"
   ]
  },
  {
   "cell_type": "code",
   "execution_count": 5,
   "metadata": {},
   "outputs": [
    {
     "name": "stdout",
     "output_type": "stream",
     "text": [
      "Z = [[[-6.99908945]]]\n"
     ]
    }
   ],
   "source": [
    "def conv_single_step(a_slice_prev,W,b):\n",
    "    s=a_slice_prev*W   # *运算是对应位置相乘，dot是点乘，multiply是对应位置相乘\n",
    "    #W相当于滤波器矩阵，a_slice_prev是被卷积的那部分像素块\n",
    "    Z=np.sum(s)\n",
    "    Z=Z+b\n",
    "    return Z\n",
    "\n",
    "np.random.seed(1)\n",
    "a_slice_prev = np.random.randn(4, 4, 3)\n",
    "W = np.random.randn(4, 4, 3)\n",
    "b = np.random.randn(1, 1, 1)\n",
    "\n",
    "Z = conv_single_step(a_slice_prev, W, b)\n",
    "print(\"Z =\", Z)"
   ]
  },
  {
   "cell_type": "code",
   "execution_count": 6,
   "metadata": {},
   "outputs": [],
   "source": [
    "def conv_forward(A_prev,W,b,hparameters):\n",
    "    #获取被卷积区域的shape\n",
    "    (m, n_H_prev, n_W_prev, n_C_prev) = A_prev.shape\n",
    "    #获取滤波器的shape\n",
    "    (f, f, n_C_prev, n_C) = W.shape\n",
    "    #从字典获取超参数\n",
    "    stride = hparameters[\"stride\"]\n",
    "    pad = hparameters[\"pad\"]\n",
    "    #计算卷积输出的shape尺寸，后面会用assert进行比对以确保正确\n",
    "    n_H = int((n_H_prev - f + 2*pad) / stride + 1)\n",
    "    n_W = int((n_W_prev - f + 2*pad) / stride + 1)\n",
    "    #初始化卷积输出\n",
    "    Z=np.zeros((m,n_H,n_W,n_C))\n",
    "    #填充卷积边界区域\n",
    "    A_prev_pad=zero_pad(A_prev,pad)\n",
    "    \n",
    "    #循环\n",
    "    for i in range(m):\n",
    "        #选择卷积的样本\n",
    "        a_prev_pad=A_prev_pad[i,:,:,:]\n",
    "        for h in range(n_H):  #纵向移动\n",
    "            for w in range(n_W): #横向移动\n",
    "                for c in range(n_C): #通道移动\n",
    "                    #定位滤波器的四个角\n",
    "                    vert_start=stride*h\n",
    "                    vert_end=vert_start+f #f是滤波器的shape\n",
    "                    horiz_start=stride*w\n",
    "                    horiz_end=horiz_start+f\n",
    "                    \n",
    "                    #提取出当前滤波器覆盖的矩阵区域\n",
    "                    a_slide_prev=a_prev_pad[vert_start:vert_end,horiz_start:horiz_end]\n",
    "                    \n",
    "                    #对提取区域实现滤波器卷积操作\n",
    "                    Z[i,h,w,c]=conv_single_step(a_slide_prev,W[:,:,:,c],b[:,:,:,c])\n",
    "                    \n",
    "    assert(Z.shape==(m,n_H,n_W,n_C))\n",
    "\n",
    "    #存储相关参数用于反向传播\n",
    "    cache=(A_prev,W,b,hparameters)\n",
    "    \n",
    "    return Z,cache\n",
    "                    "
   ]
  },
  {
   "cell_type": "code",
   "execution_count": 7,
   "metadata": {},
   "outputs": [
    {
     "name": "stdout",
     "output_type": "stream",
     "text": [
      "Z's mean = 0.048995203528855794\n",
      "Z[3,2,1] = [-0.61490741 -6.7439236  -2.55153897  1.75698377  3.56208902  0.53036437\n",
      "  5.18531798  8.75898442]\n",
      "cache_conv[0][1][2][3] = [-0.20075807  0.18656139  0.41005165]\n"
     ]
    }
   ],
   "source": [
    "np.random.seed(1)\n",
    "A_prev = np.random.randn(10,4,4,3)\n",
    "W = np.random.randn(2,2,3,8)\n",
    "b = np.random.randn(1,1,1,8)\n",
    "hparameters = {\"pad\" : 2,\n",
    "               \"stride\": 2}\n",
    "\n",
    "Z, cache_conv = conv_forward(A_prev, W, b, hparameters)\n",
    "print(\"Z's mean =\", np.mean(Z))\n",
    "print(\"Z[3,2,1] =\", Z[3,2,1])\n",
    "print(\"cache_conv[0][1][2][3] =\", cache_conv[0][1][2][3])"
   ]
  },
  {
   "cell_type": "code",
   "execution_count": 8,
   "metadata": {},
   "outputs": [],
   "source": [
    "#实现池化层操作\n",
    "def pool_forward(A_prev,hparameters,mode='max'):\n",
    "    (m, n_H_prev, n_W_prev, n_C_prev) = A_prev.shape\n",
    "    \n",
    "    #提取池化操作的参数\n",
    "    f = hparameters[\"f\"]\n",
    "    stride = hparameters[\"stride\"]\n",
    "    \n",
    "    #定义输出的理论维度:池化层不改变输出的通道数\n",
    "    n_H=int(1+(n_H_prev-f)/stride)\n",
    "    n_W=int(1+(n_W_prev-f)/stride)\n",
    "    n_C=n_C_prev\n",
    "    \n",
    "    #初始化输出矩阵\n",
    "    A=np.zeros((m,n_H,n_W,n_C))\n",
    "    \n",
    "    #循环操作\n",
    "    for i in range(m):\n",
    "        for h in range(n_H):\n",
    "            for w in range(n_W):\n",
    "                for c in range(n_C):\n",
    "                    \n",
    "                    #定位池化框的四个角\n",
    "                    vert_start=h*stride\n",
    "                    vert_end=vert_start+f;\n",
    "                    horiz_start=w*stride\n",
    "                    horiz_end=horiz_start+f\n",
    "                    \n",
    "                    #获取吃画框当前位置对应的待池化矩阵\n",
    "                    a_prev_slice=A_prev[i,vert_start:vert_end,horiz_start:horiz_end,c]\n",
    "                    \n",
    "                    #根据相应模式进行池化操作\n",
    "                    if mode=='max':\n",
    "                        A[i,h,w,c]=np.max(a_prev_slice)\n",
    "                    elif mode=='average':\n",
    "                        A[i,h,w,c]=np.mean(a_prev_slice)\n",
    "    cache=(A_prev,hparameters)\n",
    "    \n",
    "    assert(A.shape==(m,n_H,n_W,n_C))\n",
    "    \n",
    "    return A,cache"
   ]
  },
  {
   "cell_type": "code",
   "execution_count": 9,
   "metadata": {},
   "outputs": [
    {
     "name": "stdout",
     "output_type": "stream",
     "text": [
      "mode = max\n",
      "A = [[[[1.74481176 0.86540763 1.13376944]]]\n",
      "\n",
      "\n",
      " [[[1.13162939 1.51981682 2.18557541]]]]\n",
      "\n",
      "mode = average\n",
      "A = [[[[ 0.02105773 -0.20328806 -0.40389855]]]\n",
      "\n",
      "\n",
      " [[[-0.22154621  0.51716526  0.48155844]]]]\n"
     ]
    }
   ],
   "source": [
    "np.random.seed(1)\n",
    "A_prev = np.random.randn(2, 4, 4, 3)\n",
    "hparameters = {\"stride\" : 2, \"f\": 3}\n",
    "\n",
    "A, cache = pool_forward(A_prev, hparameters)\n",
    "print(\"mode = max\")\n",
    "print(\"A =\", A)\n",
    "print()\n",
    "A, cache = pool_forward(A_prev, hparameters, mode = \"average\")\n",
    "print(\"mode = average\")\n",
    "print(\"A =\", A)"
   ]
  },
  {
   "cell_type": "code",
   "execution_count": 10,
   "metadata": {},
   "outputs": [],
   "source": [
    "##tensorflow模型\n",
    "import math\n",
    "import numpy as np \n",
    "import h5py\n",
    "import matplotlib.pyplot as plt\n",
    "import scipy\n",
    "from PIL import Image\n",
    "from scipy import ndimage\n",
    "import tensorflow as tf\n",
    "from tensorflow.python.framework import ops\n",
    "from cnn_utils import *\n",
    "\n",
    "%matplotlib inline\n",
    "np.random.seed(1)"
   ]
  },
  {
   "cell_type": "code",
   "execution_count": 12,
   "metadata": {},
   "outputs": [],
   "source": [
    "X_train_orig, Y_train_orig, X_test_orig, Y_test_orig, classes = load_dataset()"
   ]
  },
  {
   "cell_type": "code",
   "execution_count": 13,
   "metadata": {},
   "outputs": [
    {
     "name": "stdout",
     "output_type": "stream",
     "text": [
      "y = 2\n"
     ]
    },
    {
     "data": {
      "image/png": "[encoded data removed]",
      "text/plain": [
       "<matplotlib.figure.Figure at 0x1bc7a81de48>"
      ]
     },
     "metadata": {},
     "output_type": "display_data"
    }
   ],
   "source": [
    "index = 6\n",
    "plt.imshow(X_train_orig[index])\n",
    "print (\"y = \" + str(np.squeeze(Y_train_orig[:, index])))"
   ]
  },
  {
   "cell_type": "code",
   "execution_count": 14,
   "metadata": {},
   "outputs": [
    {
     "data": {
      "text/plain": [
       "(1080, 64, 64, 3)"
      ]
     },
     "execution_count": 14,
     "metadata": {},
     "output_type": "execute_result"
    }
   ],
   "source": [
    "X_train_orig.shape"
   ]
  },
  {
   "cell_type": "code",
   "execution_count": 15,
   "metadata": {},
   "outputs": [],
   "source": [
    "def create_placeholders(n_H0,n_W0,n_C0,n_y):\n",
    "    X=tf.placeholder(tf.float32,shape=[None,n_H0,n_W0,n_C0])\n",
    "    Y=tf.placeholder(tf.float32,shape=[None,n_y])\n",
    "    \n",
    "    return X,Y"
   ]
  },
  {
   "cell_type": "code",
   "execution_count": 16,
   "metadata": {},
   "outputs": [
    {
     "name": "stdout",
     "output_type": "stream",
     "text": [
      "X = Tensor(\"Placeholder:0\", shape=(?, 64, 64, 3), dtype=float32)\n",
      "Y = Tensor(\"Placeholder_1:0\", shape=(?, 6), dtype=float32)\n"
     ]
    }
   ],
   "source": [
    "X, Y = create_placeholders(64, 64, 3, 6)\n",
    "print (\"X = \" + str(X))\n",
    "print (\"Y = \" + str(Y))"
   ]
  },
  {
   "cell_type": "code",
   "execution_count": 57,
   "metadata": {},
   "outputs": [],
   "source": [
    "def initialize_parameters():\n",
    "    tf.set_random_seed(1)\n",
    "    \n",
    "    W1=tf.get_variable(\"W1\",[4,4,3,8],initializer=tf.contrib.layers.xavier_initializer(seed=0))\n",
    "    W2=tf.get_variable(\"W2\",[2,2,8,16],initializer=tf.contrib.layers.xavier_initializer(seed=0))\n",
    "    \n",
    "    parameters={\"W1\":W1/np.sqrt(2),\n",
    "               \"W2\":W2/np.sqrt(2)}\n",
    "    \n",
    "    return parameters"
   ]
  },
  {
   "cell_type": "code",
   "execution_count": 58,
   "metadata": {},
   "outputs": [
    {
     "name": "stdout",
     "output_type": "stream",
     "text": [
      "W1=[ 0.00093142  0.10024045 -0.03135985  0.06503491  0.10595348 -0.02485052\n",
      " -0.04841887  0.03708911]\n",
      "W2=[-0.0605737   0.12551816  0.08467053  0.11860831 -0.05875654 -0.05697866\n",
      " -0.00408024 -0.10354756  0.17085207 -0.04141813 -0.13473934  0.09512198\n",
      " -0.1610764  -0.11326598 -0.11396781 -0.07273652]\n"
     ]
    }
   ],
   "source": [
    "#初始化参数\n",
    "tf.reset_default_graph()\n",
    "with tf.Session() as sess_test:\n",
    "    parameters=initialize_parameters()\n",
    "    init=tf.global_variables_initializer()\n",
    "    sess_test.run(init)\n",
    "    print(\"W1=\"+str(parameters[\"W1\"].eval()[1,1,1]))\n",
    "    print(\"W2=\"+str(parameters[\"W2\"].eval()[1,1,1]))"
   ]
  },
  {
   "cell_type": "code",
   "execution_count": 59,
   "metadata": {},
   "outputs": [],
   "source": [
    "def forward_propagation(X,parameters):\n",
    "    W1=parameters['W1']\n",
    "    W2=parameters['W2']\n",
    "    \n",
    "    Z1=tf.nn.conv2d(X,W1,strides=[1,1,1,1],padding='SAME')\n",
    "    A1=tf.nn.relu(Z1)\n",
    "    \n",
    "    P1=tf.nn.max_pool(A1,ksize=[1,8,8,1],strides=[1,8,8,1],padding='SAME')\n",
    "    \n",
    "    Z2=tf.nn.conv2d(P1,W2,strides=[1,1,1,1],padding='SAME')\n",
    "    \n",
    "    A2=tf.nn.relu(Z2)\n",
    "    \n",
    "    P2=tf.nn.max_pool(A2,ksize=[1,4,4,1],strides=[1,4,4,1],padding='SAME')\n",
    "    \n",
    "    P2=tf.contrib.layers.flatten(P2)\n",
    "    \n",
    "    Z3=tf.contrib.layers.fully_connected(P2,6,activation_fn=None)\n",
    "    \n",
    "    return Z3"
   ]
  },
  {
   "cell_type": "code",
   "execution_count": 60,
   "metadata": {},
   "outputs": [
    {
     "name": "stdout",
     "output_type": "stream",
     "text": [
      "Z3=[[ 0.63031745 -0.9877705  -0.4421346   0.05680432  0.5849418   0.12013616]\n",
      " [ 0.43707377 -1.0388098  -0.5433439   0.0261174   0.57343066  0.02666192]]\n"
     ]
    }
   ],
   "source": [
    "tf.reset_default_graph()\n",
    "with tf.Session() as sess:\n",
    "    np.random.seed(1)\n",
    "    X,Y=create_placeholders(64,64,3,6)\n",
    "    parameters=initialize_parameters()\n",
    "    Z3=forward_propagation(X,parameters)\n",
    "    init=tf.global_variables_initializer()\n",
    "    sess.run(init)\n",
    "    a=sess.run(Z3,{X:np.random.randn(2,64,64,3),Y:np.random.randn(2,6)})\n",
    "    print(\"Z3=\"+str(a))"
   ]
  },
  {
   "cell_type": "code",
   "execution_count": 25,
   "metadata": {},
   "outputs": [],
   "source": [
    "#计算损失代价\n",
    "def compute_cost(Z3,Y):\n",
    "    #logits表示取对数概率，labels是行标签列表\n",
    "    cost=tf.reduce_mean(tf.nn.softmax_cross_entropy_with_logits_v2(logits=Z3,labels=Y))\n",
    "    return cost"
   ]
  },
  {
   "cell_type": "code",
   "execution_count": 47,
   "metadata": {},
   "outputs": [
    {
     "name": "stdout",
     "output_type": "stream",
     "text": [
      "cost=4.66487\n"
     ]
    }
   ],
   "source": [
    "tf.reset_default_graph()\n",
    "with tf.Session() as sess:\n",
    "    np.random.seed(1)\n",
    "    X,Y=create_placeholders(64,64,3,6)\n",
    "    parameters=initialize_parameters()\n",
    "    Z3=forward_propagation(X,parameters) #前向传播函数，包含了“conv-relu-max_pool-conv-relu-max_pool-flatten-fully_connected-soft_max”的全过程\n",
    "    cost=compute_cost(Z3,Y)\n",
    "    init=tf.global_variables_initializer()\n",
    "    sess.run(init)\n",
    "    a=sess.run(cost,{X:np.random.randn(4,64,64,3),Y:np.random.randn(4,6)})\n",
    "    print(\"cost=\"+str(a))"
   ]
  },
  {
   "cell_type": "code",
   "execution_count": 42,
   "metadata": {},
   "outputs": [],
   "source": [
    "def model(X_train,Y_train,X_test,Y_test,learning_rate=0.009,\n",
    "         num_epochs=100,minibatch_size=64,print_cost=True):\n",
    "    ops.reset_default_graph()\n",
    "    tf.set_random_seed(1)\n",
    "    seed=3\n",
    "    (m,n_H0,n_W0,n_C0)=X_train.shape\n",
    "    n_y=Y_train.shape[1]  #类别维度\n",
    "    costs=[]\n",
    "    \n",
    "    X,Y=create_placeholders(n_H0,n_W0,n_C0,n_y)\n",
    "    parameters=initialize_parameters()\n",
    "    Z3=forward_propagation(X,parameters)\n",
    "    \n",
    "    cost=compute_cost(Z3,Y)\n",
    "    \n",
    "    optimizer=tf.train.AdamOptimizer(learning_rate).minimize(cost)\n",
    "    \n",
    "    init=tf.global_variables_initializer()\n",
    "    \n",
    "    with tf.Session() as sess:\n",
    "        \n",
    "        sess.run(init)\n",
    "        \n",
    "        for epoch in range(num_epochs):\n",
    "            \n",
    "            minibatch_cost=0.   #用于记录每代的总代价\n",
    "            num_minibatches=int(m/minibatch_size)\n",
    "            #每训练一代，seed+1\n",
    "            seed=seed+1\n",
    "            minibatches=random_mini_batches(X_train,Y_train,minibatch_size,seed)\n",
    "            \n",
    "            for minibatch in minibatches:\n",
    "                \n",
    "                #选择一个minibatch\n",
    "                (minibatch_X,minibatch_Y)=minibatch\n",
    "                \n",
    "                #fetches参数指定要用sess进行的操作\n",
    "                _,temp_cost=sess.run([optimizer,cost],feed_dict={X:minibatch_X,Y:minibatch_Y})\n",
    "                \n",
    "                minibatch_cost+=temp_cost/num_minibatches\n",
    "                \n",
    "            if print_cost==True and epoch%5==0:\n",
    "                print(\"cost after epoch %i:%f\"%(epoch,minibatch_cost))\n",
    "            if(print_cost==True and epoch%1==0):\n",
    "                costs.append(minibatch_cost)\n",
    "            \n",
    "        plt.plot(np.squeeze(costs))\n",
    "        plt.ylabel('cost')\n",
    "        plt.xlabel('iterations(per tens)')\n",
    "        plt.title('Learning rate='+str(learning_rate))\n",
    "        plt.show()\n",
    "        \n",
    "        #计算正确的预测\n",
    "        predict_op=tf.argmax(Z3,1)\n",
    "        correct_prediction=tf.equal(predict_op,tf.argmax(Y,1))\n",
    "        \n",
    "        #在测试集上计算精度\n",
    "        #reduce_mean:求和\n",
    "        accuracy=tf.reduce_mean(tf.cast(correct_prediction,'float'))\n",
    "        print(accuracy)\n",
    "        train_accuracy=accuracy.eval({X:X_train,Y:Y_train})\n",
    "        test_accuracy=accuracy.eval({X:X_test,Y:Y_test})\n",
    "        print(\"Train Accuracy:\",train_accuracy)\n",
    "        print(\"Test Accuracy:\",test_accuracy)\n",
    "        \n",
    "        return train_accuracy,test_accuracy,parameters\n",
    "    "
   ]
  },
  {
   "cell_type": "code",
   "execution_count": 61,
   "metadata": {},
   "outputs": [
    {
     "name": "stdout",
     "output_type": "stream",
     "text": [
      "number of training examples = 1080\n",
      "number of test examples = 120\n",
      "X_train shape: (1080, 64, 64, 3)\n",
      "Y_train shape: (1080, 6)\n",
      "X_test shape: (120, 64, 64, 3)\n",
      "Y_test shape: (120, 6)\n",
      "cost after epoch 0:1.905959\n",
      "cost after epoch 5:1.515179\n",
      "cost after epoch 10:0.928022\n",
      "cost after epoch 15:0.733965\n",
      "cost after epoch 20:0.603565\n",
      "cost after epoch 25:0.477269\n",
      "cost after epoch 30:0.405219\n",
      "cost after epoch 35:0.406013\n",
      "cost after epoch 40:0.318272\n",
      "cost after epoch 45:0.327609\n",
      "cost after epoch 50:0.291084\n",
      "cost after epoch 55:0.239213\n",
      "cost after epoch 60:0.199673\n",
      "cost after epoch 65:0.203000\n",
      "cost after epoch 70:0.164283\n",
      "cost after epoch 75:0.187648\n",
      "cost after epoch 80:0.230772\n",
      "cost after epoch 85:0.170399\n",
      "cost after epoch 90:0.162931\n",
      "cost after epoch 95:0.138827\n"
     ]
    },
    {
     "data": {
      "image/png": "[encoded data removed]",
      "text/plain": [
       "<matplotlib.figure.Figure at 0x1bc0fb36400>"
      ]
     },
     "metadata": {},
     "output_type": "display_data"
    },
    {
     "name": "stdout",
     "output_type": "stream",
     "text": [
      "Tensor(\"Mean_1:0\", shape=(), dtype=float32)\n",
      "Train Accuracy: 0.9787037\n",
      "Test Accuracy: 0.8666667\n"
     ]
    }
   ],
   "source": [
    "X_train = X_train_orig/255.\n",
    "X_test = X_test_orig/255.\n",
    "Y_train = convert_to_one_hot(Y_train_orig, 6).T\n",
    "Y_test = convert_to_one_hot(Y_test_orig, 6).T\n",
    "print (\"number of training examples = \" + str(X_train.shape[0]))\n",
    "print (\"number of test examples = \" + str(X_test.shape[0]))\n",
    "print (\"X_train shape: \" + str(X_train.shape))\n",
    "print (\"Y_train shape: \" + str(Y_train.shape))\n",
    "print (\"X_test shape: \" + str(X_test.shape))\n",
    "print (\"Y_test shape: \" + str(Y_test.shape))\n",
    "conv_layers = {}\n",
    " \n",
    "_, _, parameters = model(X_train, Y_train, X_test, Y_test)"
   ]
  },
  {
   "cell_type": "code",
   "execution_count": 51,
   "metadata": {},
   "outputs": [
    {
     "name": "stderr",
     "output_type": "stream",
     "text": [
      "c:\\program files\\python36\\lib\\site-packages\\ipykernel_launcher.py:2: DeprecationWarning: `imread` is deprecated!\n",
      "`imread` is deprecated in SciPy 1.0.0.\n",
      "Use ``matplotlib.pyplot.imread`` instead.\n",
      "  \n",
      "c:\\program files\\python36\\lib\\site-packages\\ipykernel_launcher.py:3: DeprecationWarning: `imresize` is deprecated!\n",
      "`imresize` is deprecated in SciPy 1.0.0, and will be removed in 1.2.0.\n",
      "Use ``skimage.transform.resize`` instead.\n",
      "  This is separate from the ipykernel package so we can avoid doing imports until\n"
     ]
    },
    {
     "data": {
      "text/plain": [
       "<matplotlib.image.AxesImage at 0x1bc0f7cb240>"
      ]
     },
     "execution_count": 51,
     "metadata": {},
     "output_type": "execute_result"
    },
    {
     "data": {
      "image/png": "[encoded data removed]",
      "text/plain": [
       "<matplotlib.figure.Figure at 0x1bc0dd4f550>"
      ]
     },
     "metadata": {},
     "output_type": "display_data"
    }
   ],
   "source": [
    "fname = \"images/thumbs_up.jpg\"\n",
    "image = np.array(ndimage.imread(fname, flatten=False))\n",
    "my_image = scipy.misc.imresize(image, size=(64,64))\n",
    "plt.imshow(my_image)"
   ]
  },
  {
   "cell_type": "code",
   "execution_count": 62,
   "metadata": {},
   "outputs": [],
   "source": [
    "#总结，在参数初始化函数中，W1,W2除以np.sqrt(2)作为初始参数，不然cost代价计算会有问题"
   ]
  },
  {
   "cell_type": "code",
   "execution_count": null,
   "metadata": {},
   "outputs": [],
   "source": []
  },
  {
   "cell_type": "code",
   "execution_count": null,
   "metadata": {},
   "outputs": [],
   "source": []
  },
  {
   "cell_type": "code",
   "execution_count": null,
   "metadata": {},
   "outputs": [],
   "source": []
  },
  {
   "cell_type": "code",
   "execution_count": null,
   "metadata": {},
   "outputs": [],
   "source": []
  },
  {
   "cell_type": "code",
   "execution_count": null,
   "metadata": {},
   "outputs": [],
   "source": []
  },
  {
   "cell_type": "code",
   "execution_count": null,
   "metadata": {},
   "outputs": [],
   "source": []
  },
  {
   "cell_type": "code",
   "execution_count": null,
   "metadata": {},
   "outputs": [],
   "source": []
  },
  {
   "cell_type": "code",
   "execution_count": null,
   "metadata": {},
   "outputs": [],
   "source": []
  },
  {
   "cell_type": "code",
   "execution_count": null,
   "metadata": {},
   "outputs": [],
   "source": []
  },
  {
   "cell_type": "code",
   "execution_count": null,
   "metadata": {},
   "outputs": [],
   "source": []
  },
  {
   "cell_type": "code",
   "execution_count": null,
   "metadata": {},
   "outputs": [],
   "source": []
  },
  {
   "cell_type": "code",
   "execution_count": null,
   "metadata": {},
   "outputs": [],
   "source": []
  },
  {
   "cell_type": "code",
   "execution_count": null,
   "metadata": {},
   "outputs": [],
   "source": []
  },
  {
   "cell_type": "code",
   "execution_count": null,
   "metadata": {},
   "outputs": [],
   "source": []
  },
  {
   "cell_type": "code",
   "execution_count": null,
   "metadata": {},
   "outputs": [],
   "source": []
  },
  {
   "cell_type": "code",
   "execution_count": null,
   "metadata": {},
   "outputs": [],
   "source": []
  },
  {
   "cell_type": "code",
   "execution_count": null,
   "metadata": {},
   "outputs": [],
   "source": []
  },
  {
   "cell_type": "code",
   "execution_count": null,
   "metadata": {},
   "outputs": [],
   "source": []
  },
  {
   "cell_type": "code",
   "execution_count": null,
   "metadata": {},
   "outputs": [],
   "source": []
  },
  {
   "cell_type": "code",
   "execution_count": null,
   "metadata": {},
   "outputs": [],
   "source": []
  },
  {
   "cell_type": "code",
   "execution_count": null,
   "metadata": {},
   "outputs": [],
   "source": []
  },
  {
   "cell_type": "code",
   "execution_count": null,
   "metadata": {},
   "outputs": [],
   "source": []
  },
  {
   "cell_type": "code",
   "execution_count": null,
   "metadata": {},
   "outputs": [],
   "source": []
  }
 ],
 "metadata": {
  "kernelspec": {
   "display_name": "Python 3",
   "language": "python",
   "name": "python3"
  },
  "language_info": {
   "codemirror_mode": {
    "name": "ipython",
    "version": 3
   },
   "file_extension": ".py",
   "mimetype": "text/x-python",
   "name": "python",
   "nbconvert_exporter": "python",
   "pygments_lexer": "ipython3",
   "version": "3.6.3"
  }
 },
 "nbformat": 4,
 "nbformat_minor": 2
}

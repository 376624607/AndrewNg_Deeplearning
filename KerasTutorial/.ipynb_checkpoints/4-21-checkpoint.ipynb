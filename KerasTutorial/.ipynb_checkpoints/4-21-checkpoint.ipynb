{
 "cells": [
  {
   "cell_type": "code",
   "execution_count": 1,
   "metadata": {},
   "outputs": [
    {
     "data": {
      "text/plain": [
       "'\\nPart1:Keras教程\\n1、学会使用keras(由python写成并能运行于tensorflow和CNTK等底层框架)\\n2、短时间内建立一个深度学习算法\\n\\nkeras的特点：\\n1、tensorflow是比python高层的框架，keras更高层且提供了额外的抽象，能够最快地实现将idea进行实现，从而找出更好的模型\\n2、当然，keras比底层框架受限制更多，因此有些复杂的模型无法轻松在keras上实现但能在tensorflow上实现\\n\\n'"
      ]
     },
     "execution_count": 1,
     "metadata": {},
     "output_type": "execute_result"
    }
   ],
   "source": [
    "'''\n",
    "Part1:Keras教程\n",
    "1、学会使用keras(由python写成并能运行于tensorflow和CNTK等底层框架)\n",
    "2、短时间内建立一个深度学习算法\n",
    "\n",
    "keras的特点：\n",
    "1、tensorflow是比python高层的框架，keras更高层且提供了额外的抽象，能够最快地实现将idea进行实现，从而找出更好的模型\n",
    "2、当然，keras比底层框架受限制更多，因此有些复杂的模型无法轻松在keras上实现但能在tensorflow上实现\n",
    "\n",
    "'''"
   ]
  },
  {
   "cell_type": "code",
   "execution_count": 2,
   "metadata": {},
   "outputs": [
    {
     "name": "stderr",
     "output_type": "stream",
     "text": [
      "c:\\program files\\python36\\lib\\site-packages\\h5py\\__init__.py:36: FutureWarning: Conversion of the second argument of issubdtype from `float` to `np.floating` is deprecated. In future, it will be treated as `np.float64 == np.dtype(float).type`.\n",
      "  from ._conv import register_converters as _register_converters\n",
      "Using TensorFlow backend.\n"
     ]
    }
   ],
   "source": [
    "import numpy as np\n",
    "from keras import layers\n",
    "from keras.layers import Input,Dense,Activation,ZeroPadding2D,BatchNormalization,Flatten,Conv2D\n",
    "from keras.layers import AveragePooling2D,MaxPooling2D,Dropout,GlobalMaxPooling2D,GlobalAveragePooling2D\n",
    "from keras.models import Model\n",
    "from keras.preprocessing import image\n",
    "from keras.utils import layer_utils\n",
    "from keras.utils.data_utils import get_file\n",
    "from keras.applications.imagenet_utils import preprocess_input\n",
    "import pydot\n",
    "from IPython.display import SVG\n",
    "from keras.utils.vis_utils import model_to_dot\n",
    "from keras.utils import plot_model\n",
    "from kt_utils import *\n",
    "\n",
    "import keras.backend as K\n",
    "K.set_image_data_format('channels_last')\n",
    "import matplotlib.pyplot as plt\n",
    "from matplotlib.pyplot import imshow\n",
    "%matplotlib inline\n"
   ]
  },
  {
   "cell_type": "code",
   "execution_count": 3,
   "metadata": {},
   "outputs": [
    {
     "data": {
      "text/plain": [
       "'\\n问题背景：Happy House\\nHappy House的门口放置一个摄像头，拍摄来访者的头像，现要求构建一个模型，能够识别来访者是否happy，确定happy时房门才打开。\\n现已收集到多人的带标签（是否happy）数据，利用数据进行训练。\\n\\n'"
      ]
     },
     "execution_count": 3,
     "metadata": {},
     "output_type": "execute_result"
    }
   ],
   "source": [
    "'''\n",
    "问题背景：Happy House\n",
    "Happy House的门口放置一个摄像头，拍摄来访者的头像，现要求构建一个模型，能够识别来访者是否happy，确定happy时房门才打开。\n",
    "现已收集到多人的带标签（是否happy）数据，利用数据进行训练。\n",
    "\n",
    "'''"
   ]
  },
  {
   "cell_type": "code",
   "execution_count": 4,
   "metadata": {},
   "outputs": [
    {
     "name": "stdout",
     "output_type": "stream",
     "text": [
      "number of training examples = 600\n",
      "number of test examples = 150\n",
      "X_train shape: (600, 64, 64, 3)\n",
      "Y_train shape: (600, 1)\n",
      "X_test shape: (150, 64, 64, 3)\n",
      "Y_test shape: (150, 1)\n"
     ]
    }
   ],
   "source": [
    "#导入数据并normalize\n",
    "\n",
    "#X_train_orig:(600,64,64,3)   X_test_orig:(150,64,64,3) \n",
    "#Y_train_orig:(1,600)   Y_test_orig:(1,150)\n",
    "X_train_orig,Y_train_orig,X_test_orig,Y_test_orig,classes=load_dataset()\n",
    "\n",
    "#normalize\n",
    "X_train=X_train_orig/255\n",
    "X_test=X_test_orig/255\n",
    "\n",
    "#reshape\n",
    "Y_train=Y_train_orig.T\n",
    "Y_test=Y_test_orig.T\n",
    "\n",
    "print (\"number of training examples = \" + str(X_train.shape[0]))\n",
    "print (\"number of test examples = \" + str(X_test.shape[0]))\n",
    "print (\"X_train shape: \" + str(X_train.shape))\n",
    "print (\"Y_train shape: \" + str(Y_train.shape))\n",
    "print (\"X_test shape: \" + str(X_test.shape))\n",
    "print (\"Y_test shape: \" + str(Y_test.shape))"
   ]
  },
  {
   "cell_type": "code",
   "execution_count": 5,
   "metadata": {},
   "outputs": [
    {
     "data": {
      "text/plain": [
       "'\\n用keras建立模型：迅速建立模型原型\\n'"
      ]
     },
     "execution_count": 5,
     "metadata": {},
     "output_type": "execute_result"
    }
   ],
   "source": [
    "'''\n",
    "用keras建立模型：迅速建立模型原型\n",
    "'''"
   ]
  },
  {
   "cell_type": "code",
   "execution_count": 6,
   "metadata": {},
   "outputs": [
    {
     "data": {
      "text/plain": [
       "'\\n1、keras使用与tensorflow、numpy不同的变量：\\n比如keras不是每一步都规定一个新的变量X/Z1/A1/Z2/A2，而是每层都用X=...的形式赋值，唯一的例外是X_input，因为最终的Model()需要参数\\n2、上述模型架构都是自由可定制的。比如使用平均池化，全局最大池化，失活等方法\\n'"
      ]
     },
     "execution_count": 6,
     "metadata": {},
     "output_type": "execute_result"
    }
   ],
   "source": [
    "def model(input_shape):\n",
    "    #定义输入占位符——维度为input_shape的tensor，即输入模型的图像\n",
    "    X_input=Input(input_shape)\n",
    "    \n",
    "    #Zero-Padding:用0填充\n",
    "    X=ZeroPadding2D((3,3))(X_input)\n",
    "    \n",
    "    #conv->BN->RELU  施加于X\n",
    "    X=Conv2D(32,(7,7),strides=(1,1),name='conv0')(X)\n",
    "    X=BatchNormalization(axis=3,name='bn0')(X)\n",
    "    X=Activation('relu')(X)\n",
    "    \n",
    "    #MAXPOOL\n",
    "    X=MaxPooling2D((2,2),name='max_pool')(X)\n",
    "    \n",
    "    #flatten为vector\n",
    "    X=Flatten()(X)\n",
    "    X=Dense(1,activation='sigmoid',name='fc')(X)\n",
    "    \n",
    "    #创建模型\n",
    "    model=Model(inputs=X_input,outputs=X,name='HappyModel')\n",
    "    \n",
    "    return model\n",
    "\n",
    "'''\n",
    "1、keras使用与tensorflow、numpy不同的变量：\n",
    "比如keras不是每一步都规定一个新的变量X/Z1/A1/Z2/A2，而是每层都用X=...的形式赋值，唯一的例外是X_input，因为最终的Model()需要参数\n",
    "2、上述模型架构都是自由可定制的。比如使用平均池化，全局最大池化，失活等方法\n",
    "'''"
   ]
  },
  {
   "cell_type": "code",
   "execution_count": 7,
   "metadata": {},
   "outputs": [],
   "source": [
    "#自定义的HappyModel,升级版\n",
    "#该函数用于描述定义的模型\n",
    "def HappyModel(input_shape):\n",
    "    \n",
    "    X_input=Input(input_shape)\n",
    "    \n",
    "    X=ZeroPadding2D((3,3))(X_input)\n",
    "    \n",
    "    X=Conv2D(32,(7,7),strides=(1,1),name='conv0')(X)\n",
    "    X=BatchNormalization(axis=3,name='bn0')(X)\n",
    "    X=Activation('relu')(X)\n",
    "    \n",
    "    X=MaxPooling2D((2,2),name='max_pool')(X)\n",
    "    \n",
    "    X=Flatten()(X)\n",
    "    X=Dense(1,activation='sigmoid',name='fc')(X)\n",
    "    \n",
    "    model=Model(inputs=X_input,outputs=X,name='HappyModel')\n",
    "    \n",
    "    return model\n",
    "    "
   ]
  },
  {
   "cell_type": "code",
   "execution_count": 8,
   "metadata": {},
   "outputs": [
    {
     "data": {
      "text/plain": [
       "'\\n训练和测试模型共分为四步：\\n1、调用函数创建模型\\n2、调用函数编译模型：model.compile(optimizer=\"...\",loss=\"...\",metrics=[\"accuracy\"])\\n3、用训练集训练模型:model.fit(x=...,y=...,epoch=...,batch_size=...)\\n4、用测试集测试模型:model.evaluate(x=...,y=...)\\n\\n相关函数参数链接：https://keras.io/models/model/\\n'"
      ]
     },
     "execution_count": 8,
     "metadata": {},
     "output_type": "execute_result"
    }
   ],
   "source": [
    "'''\n",
    "训练和测试模型共分为四步：\n",
    "1、调用函数创建模型\n",
    "2、调用函数编译模型：model.compile(optimizer=\"...\",loss=\"...\",metrics=[\"accuracy\"])\n",
    "3、用训练集训练模型:model.fit(x=...,y=...,epoch=...,batch_size=...)\n",
    "4、用测试集测试模型:model.evaluate(x=...,y=...)\n",
    "\n",
    "相关函数参数链接：https://keras.io/models/model/\n",
    "'''"
   ]
  },
  {
   "cell_type": "code",
   "execution_count": 9,
   "metadata": {},
   "outputs": [
    {
     "name": "stdout",
     "output_type": "stream",
     "text": [
      "Epoch 1/10\n",
      "600/600 [==============================] - 9s 16ms/step - loss: 3.1302 - acc: 0.5417\n",
      "Epoch 2/10\n",
      "600/600 [==============================] - 10s 16ms/step - loss: 0.6971 - acc: 0.7583\n",
      "Epoch 3/10\n",
      "600/600 [==============================] - 9s 15ms/step - loss: 0.2387 - acc: 0.8983\n",
      "Epoch 4/10\n",
      "600/600 [==============================] - 10s 16ms/step - loss: 0.1589 - acc: 0.9417\n",
      "Epoch 5/10\n",
      "600/600 [==============================] - 11s 19ms/step - loss: 0.1411 - acc: 0.9417\n",
      "Epoch 6/10\n",
      "600/600 [==============================] - 10s 17ms/step - loss: 0.1308 - acc: 0.9500\n",
      "Epoch 7/10\n",
      "600/600 [==============================] - 10s 16ms/step - loss: 0.0992 - acc: 0.9700\n",
      "Epoch 8/10\n",
      "600/600 [==============================] - 11s 19ms/step - loss: 0.0984 - acc: 0.9633\n",
      "Epoch 9/10\n",
      "600/600 [==============================] - 10s 17ms/step - loss: 0.0798 - acc: 0.9767\n",
      "Epoch 10/10\n",
      "600/600 [==============================] - 10s 17ms/step - loss: 0.1191 - acc: 0.9483\n"
     ]
    },
    {
     "data": {
      "text/plain": [
       "<keras.callbacks.History at 0x1c2734087f0>"
      ]
     },
     "execution_count": 9,
     "metadata": {},
     "output_type": "execute_result"
    }
   ],
   "source": [
    "#step1:\n",
    "happyModel=HappyModel(X_train.shape[1:])\n",
    "\n",
    "#step2:\n",
    "#Adam算法综合动量梯度下降(一阶矩)和RMSprop(二阶矩)方法，包括β1、β2、e三个参数\n",
    "happyModel.compile(optimizer='Adam',loss=\"binary_crossentropy\",metrics=[\"accuracy\"])\n",
    "\n",
    "#step3:训练模型\n",
    "happyModel.fit(x=X_train,y=Y_train,epochs=10,batch_size=32)"
   ]
  },
  {
   "cell_type": "code",
   "execution_count": 10,
   "metadata": {},
   "outputs": [
    {
     "name": "stdout",
     "output_type": "stream",
     "text": [
      "Epoch 1/10\n",
      "600/600 [==============================] - 10s 17ms/step - loss: 7.5527 - acc: 0.5100\n",
      "Epoch 2/10\n",
      "600/600 [==============================] - 10s 16ms/step - loss: 7.9712 - acc: 0.5000\n",
      "Epoch 3/10\n",
      "600/600 [==============================] - 10s 17ms/step - loss: 7.9712 - acc: 0.5000\n",
      "Epoch 4/10\n",
      "600/600 [==============================] - 10s 17ms/step - loss: 7.9712 - acc: 0.5000\n",
      "Epoch 5/10\n",
      "600/600 [==============================] - 10s 16ms/step - loss: 7.9712 - acc: 0.5000\n",
      "Epoch 6/10\n",
      "600/600 [==============================] - 10s 17ms/step - loss: 7.9712 - acc: 0.5000\n",
      "Epoch 7/10\n",
      "600/600 [==============================] - 10s 17ms/step - loss: 7.9712 - acc: 0.5000\n",
      "Epoch 8/10\n",
      "600/600 [==============================] - 10s 17ms/step - loss: 7.9712 - acc: 0.5000\n",
      "Epoch 9/10\n",
      "600/600 [==============================] - 10s 17ms/step - loss: 7.9712 - acc: 0.5000\n",
      "Epoch 10/10\n",
      "600/600 [==============================] - 10s 17ms/step - loss: 7.9712 - acc: 0.5000\n"
     ]
    },
    {
     "data": {
      "text/plain": [
       "'\\n对比以上两种不同的优化方式Adam和RMSprop发现,前者效果好，后者没能收敛，\\n效果差，体现了集成动量梯度下降方法后的优势\\n\\n'"
      ]
     },
     "execution_count": 10,
     "metadata": {},
     "output_type": "execute_result"
    }
   ],
   "source": [
    "#step1:\n",
    "happyModel=HappyModel(X_train.shape[1:])\n",
    "\n",
    "#step2:\n",
    "#Adam算法综合动量梯度下降(一阶矩)和RMSprop(二阶矩)方法，包括β1、β2、e三个参数\n",
    "happyModel.compile(optimizer='RMSprop',loss=\"binary_crossentropy\",metrics=[\"accuracy\"])\n",
    "\n",
    "#step3:训练模型\n",
    "happyModel.fit(x=X_train,y=Y_train,epochs=10,batch_size=32)\n",
    "\n",
    "'''\n",
    "对比以上两种不同的优化方式Adam和RMSprop发现,前者效果好，后者没能收敛，\n",
    "效果差，体现了集成动量梯度下降方法后的优势\n",
    "\n",
    "'''\n"
   ]
  },
  {
   "cell_type": "code",
   "execution_count": 11,
   "metadata": {},
   "outputs": [
    {
     "name": "stdout",
     "output_type": "stream",
     "text": [
      "150/150 [==============================] - 1s 8ms/step\n",
      "\n",
      "Loss=7.014649340311686\n",
      "Test Accuracy=0.5599999984105428\n"
     ]
    },
    {
     "data": {
      "text/plain": [
       "'\\n此处要注意：因为在Adam优化之后我又尝试了RMSprop优化，所以训练处的参数是效果较差的参数，\\n要想在测试集上有好的效果，必须重新用Adam方法进行拟合\\n\\n'"
      ]
     },
     "execution_count": 11,
     "metadata": {},
     "output_type": "execute_result"
    }
   ],
   "source": [
    "preds=happyModel.evaluate(X_test,Y_test)\n",
    "print()\n",
    "print(\"Loss=\"+str(preds[0]))\n",
    "print(\"Test Accuracy=\"+str(preds[1]))\n",
    "'''\n",
    "此处要注意：因为在Adam优化之后我又尝试了RMSprop优化，所以训练处的参数是效果较差的参数，\n",
    "要想在测试集上有好的效果，必须重新用Adam方法进行拟合\n",
    "\n",
    "'''"
   ]
  },
  {
   "cell_type": "code",
   "execution_count": 12,
   "metadata": {},
   "outputs": [
    {
     "name": "stdout",
     "output_type": "stream",
     "text": [
      "Epoch 1/10\n",
      "600/600 [==============================] - 10s 17ms/step - loss: 1.0814 - acc: 0.6567\n",
      "Epoch 2/10\n",
      "600/600 [==============================] - 10s 17ms/step - loss: 0.3007 - acc: 0.8717\n",
      "Epoch 3/10\n",
      "600/600 [==============================] - 10s 16ms/step - loss: 0.1366 - acc: 0.9450\n",
      "Epoch 4/10\n",
      "600/600 [==============================] - 10s 17ms/step - loss: 0.1193 - acc: 0.9600\n",
      "Epoch 5/10\n",
      "600/600 [==============================] - 10s 17ms/step - loss: 0.1728 - acc: 0.9300\n",
      "Epoch 6/10\n",
      "600/600 [==============================] - 10s 17ms/step - loss: 0.1152 - acc: 0.9717\n",
      "Epoch 7/10\n",
      "600/600 [==============================] - 10s 17ms/step - loss: 0.0706 - acc: 0.9750\n",
      "Epoch 8/10\n",
      "600/600 [==============================] - 11s 19ms/step - loss: 0.0843 - acc: 0.9733\n",
      "Epoch 9/10\n",
      "600/600 [==============================] - 10s 17ms/step - loss: 0.0712 - acc: 0.9733\n",
      "Epoch 10/10\n",
      "600/600 [==============================] - 10s 16ms/step - loss: 0.0455 - acc: 0.9917\n"
     ]
    },
    {
     "data": {
      "text/plain": [
       "'\\n可以看出，在epoch2-5时训练精度就已经收敛。所以如果要比较不同模型的优劣的话，只需要比较前面几次epoch即可\\n\\n'"
      ]
     },
     "execution_count": 12,
     "metadata": {},
     "output_type": "execute_result"
    }
   ],
   "source": [
    "#step1:\n",
    "happyModel=HappyModel(X_train.shape[1:])\n",
    "\n",
    "#step2:\n",
    "#Adam算法综合动量梯度下降(一阶矩)和RMSprop(二阶矩)方法，包括β1、β2、e三个参数\n",
    "happyModel.compile(optimizer='Adam',loss=\"binary_crossentropy\",metrics=[\"accuracy\"])\n",
    "\n",
    "#step3:训练模型\n",
    "happyModel.fit(x=X_train,y=Y_train,epochs=10,batch_size=32)\n",
    "\n",
    "'''\n",
    "可以看出，在epoch2-5时训练精度就已经收敛。所以如果要比较不同模型的优劣的话，只需要比较前面几次epoch即可\n",
    "\n",
    "'''\n"
   ]
  },
  {
   "cell_type": "code",
   "execution_count": 13,
   "metadata": {},
   "outputs": [
    {
     "name": "stdout",
     "output_type": "stream",
     "text": [
      "150/150 [==============================] - 1s 8ms/step\n",
      "\n",
      "Loss=0.1909296174844106\n",
      "Test Accuracy=0.9200000015894572\n"
     ]
    },
    {
     "data": {
      "text/plain": [
       "'\\n再次运行，效果杠杠滴！！\\n'"
      ]
     },
     "execution_count": 13,
     "metadata": {},
     "output_type": "execute_result"
    }
   ],
   "source": [
    "preds=happyModel.evaluate(X_test,Y_test)\n",
    "print()\n",
    "print(\"Loss=\"+str(preds[0]))\n",
    "print(\"Test Accuracy=\"+str(preds[1]))\n",
    "\n",
    "'''\n",
    "再次运行，效果杠杠滴！！\n",
    "'''"
   ]
  },
  {
   "cell_type": "code",
   "execution_count": 14,
   "metadata": {},
   "outputs": [
    {
     "data": {
      "text/plain": [
       "\"\\n如果发现精度不够，可以使用以下代码：\\nX = Conv2D(32, (3, 3), strides = (1, 1), name = 'conv0')(X)\\nX = BatchNormalization(axis = 3, name = 'bn0')(X)\\nX = Activation('relu')(X)\\n\\n方法：\\n1、训练直至shape[0](height)和shape[1](width)都比较小且channel比较大，这样就将有效信息集中在一个小小的空间里\\n2、将小空间flatten为vector，并传入全连接层\\n\\n提升精度的几种方式：\\n1、最大值池化方式降低height和width\\n2、采用Adam优化器——最佳\\n3、如果遇到计算性能瓶颈，降低batch_size减轻计算压力\\n4、运行更多次迭代，直到精度收敛\\n\\n如果在此模型上进行超参数调试的话，测试集就变成了开发集，这样会造成过拟合。\\n\\n\\n\""
      ]
     },
     "execution_count": 14,
     "metadata": {},
     "output_type": "execute_result"
    }
   ],
   "source": [
    "'''\n",
    "如果发现精度不够，可以使用以下代码：\n",
    "X = Conv2D(32, (3, 3), strides = (1, 1), name = 'conv0')(X)\n",
    "X = BatchNormalization(axis = 3, name = 'bn0')(X)\n",
    "X = Activation('relu')(X)\n",
    "\n",
    "方法：\n",
    "1、训练直至shape[0](height)和shape[1](width)都比较小且channel比较大，这样就将有效信息集中在一个小小的空间里\n",
    "2、将小空间flatten为vector，并传入全连接层\n",
    "\n",
    "提升精度的几种方式：\n",
    "1、最大值池化方式降低height和width\n",
    "2、采用Adam优化器——最佳\n",
    "3、如果遇到计算性能瓶颈，降低batch_size减轻计算压力\n",
    "4、运行更多次迭代，直到精度收敛\n",
    "\n",
    "如果在此模型上进行超参数调试的话，测试集就变成了开发集，这样会造成过拟合。\n",
    "\n",
    "\n",
    "'''"
   ]
  },
  {
   "cell_type": "code",
   "execution_count": 15,
   "metadata": {},
   "outputs": [
    {
     "name": "stdout",
     "output_type": "stream",
     "text": [
      "[[1.]]\n"
     ]
    },
    {
     "data": {
      "image/png": "[encoded data removed]",
      "text/plain": [
       "<matplotlib.figure.Figure at 0x1c20212e390>"
      ]
     },
     "metadata": {},
     "output_type": "display_data"
    }
   ],
   "source": [
    "'''\n",
    "用图片测试模型：\n",
    "\n",
    "'''\n",
    "\n",
    "img_path=\"images/my_image.jpg\"\n",
    "img=image.load_img(img_path,target_size=(64,64))\n",
    "imshow(img)\n",
    "\n",
    "x=image.img_to_array(img)\n",
    "x=np.expand_dims(x,axis=0)\n",
    "x=preprocess_input(x)\n",
    "\n",
    "print(happyModel.predict(x))\n",
    "\n",
    "#预测成功 happy"
   ]
  },
  {
   "cell_type": "code",
   "execution_count": 16,
   "metadata": {},
   "outputs": [
    {
     "name": "stdout",
     "output_type": "stream",
     "text": [
      "[[1.]]\n"
     ]
    },
    {
     "data": {
      "image/png": "[encoded data removed]",
      "text/plain": [
       "<matplotlib.figure.Figure at 0x1c20212e550>"
      ]
     },
     "metadata": {},
     "output_type": "display_data"
    }
   ],
   "source": [
    "img_path=\"images/my_image3.jpg\"\n",
    "img=image.load_img(img_path,target_size=(64,64))\n",
    "imshow(img)\n",
    "\n",
    "x=image.img_to_array(img)\n",
    "x=np.expand_dims(x,axis=0)\n",
    "x=preprocess_input(x)\n",
    "\n",
    "print(happyModel.predict(x))"
   ]
  },
  {
   "cell_type": "code",
   "execution_count": 17,
   "metadata": {},
   "outputs": [
    {
     "data": {
      "text/plain": [
       "'\\n其他一些有用的keras函数\\nmodel.summary()\\nplot_model()\\n\\n'"
      ]
     },
     "execution_count": 17,
     "metadata": {},
     "output_type": "execute_result"
    }
   ],
   "source": [
    "'''\n",
    "其他一些有用的keras函数\n",
    "model.summary()\n",
    "plot_model()\n",
    "\n",
    "'''"
   ]
  },
  {
   "cell_type": "code",
   "execution_count": 18,
   "metadata": {
    "scrolled": false
   },
   "outputs": [
    {
     "name": "stdout",
     "output_type": "stream",
     "text": [
      "_________________________________________________________________\n",
      "Layer (type)                 Output Shape              Param #   \n",
      "=================================================================\n",
      "input_3 (InputLayer)         (None, 64, 64, 3)         0         \n",
      "_________________________________________________________________\n",
      "zero_padding2d_3 (ZeroPaddin (None, 70, 70, 3)         0         \n",
      "_________________________________________________________________\n",
      "conv0 (Conv2D)               (None, 64, 64, 32)        4736      \n",
      "_________________________________________________________________\n",
      "bn0 (BatchNormalization)     (None, 64, 64, 32)        128       \n",
      "_________________________________________________________________\n",
      "activation_3 (Activation)    (None, 64, 64, 32)        0         \n",
      "_________________________________________________________________\n",
      "max_pool (MaxPooling2D)      (None, 32, 32, 32)        0         \n",
      "_________________________________________________________________\n",
      "flatten_3 (Flatten)          (None, 32768)             0         \n",
      "_________________________________________________________________\n",
      "fc (Dense)                   (None, 1)                 32769     \n",
      "=================================================================\n",
      "Total params: 37,633\n",
      "Trainable params: 37,569\n",
      "Non-trainable params: 64\n",
      "_________________________________________________________________\n"
     ]
    }
   ],
   "source": [
    "happyModel.summary()"
   ]
  },
  {
   "cell_type": "code",
   "execution_count": 19,
   "metadata": {},
   "outputs": [
    {
     "data": {
      "text/plain": [
       "'\\n注意：此处会出现import graphviz和pydot出错等问题，可参考一下方法解决\\n\\n针对该问题的解决方法：\\nhttps://blog.csdn.net/hahajinbu/article/details/72859849\\n\\n关键是按上述方法下载graphviz二进制文件安装后，必须重新启动jupyter才能使环境变量生效\\n'"
      ]
     },
     "execution_count": 19,
     "metadata": {},
     "output_type": "execute_result"
    }
   ],
   "source": [
    "plot_model(happyModel, to_file='HappyModel.png')\n",
    "SVG(model_to_dot(happyModel).create(prog='dot', format='svg'))\n",
    "\n",
    "'''\n",
    "注意：此处会出现import graphviz和pydot出错等问题，可参考一下方法解决\n",
    "\n",
    "针对该问题的解决方法：\n",
    "https://blog.csdn.net/hahajinbu/article/details/72859849\n",
    "\n",
    "关键是按上述方法下载graphviz二进制文件安装后，必须重新启动jupyter才能使环境变量生效\n",
    "'''"
   ]
  },
  {
   "cell_type": "code",
   "execution_count": 20,
   "metadata": {},
   "outputs": [
    {
     "data": {
      "text/plain": [
       "'\\nPart2:残差神经网络\\n\\n学习如何使用残差神经网络(ResNets)构建深度卷积神经网络。\\n理论上，神经网络层次越深，能实现越复杂的功能，但往往难以训练。\\n而ResNets能让我们训练更深层次的神经网络（N层模块的输入是N-1层模块的输入和N-1层模块的输出之和）\\n\\n本部分实现：\\n1、ResNets的基本构架模块\\n2、将基本模块集成，构建图片分类器\\n\\n'"
      ]
     },
     "execution_count": 20,
     "metadata": {},
     "output_type": "execute_result"
    }
   ],
   "source": [
    "'''\n",
    "Part2:残差神经网络\n",
    "\n",
    "学习如何使用残差神经网络(ResNets)构建深度卷积神经网络。\n",
    "理论上，神经网络层次越深，能实现越复杂的功能，但往往难以训练。\n",
    "而ResNets能让我们训练更深层次的神经网络（N层模块的输入是N-1层模块的输入和N-1层模块的输出之和）\n",
    "\n",
    "本部分实现：\n",
    "1、ResNets的基本构架模块\n",
    "2、将基本模块集成，构建图片分类器\n",
    "\n",
    "'''"
   ]
  },
  {
   "cell_type": "code",
   "execution_count": 21,
   "metadata": {},
   "outputs": [],
   "source": [
    "import os\n",
    "os.chdir('../ResNets')"
   ]
  },
  {
   "cell_type": "code",
   "execution_count": 22,
   "metadata": {},
   "outputs": [],
   "source": [
    "import numpy as np\n",
    "from keras import layers\n",
    "from keras.layers import Input, Add, Dense, Activation, ZeroPadding2D, BatchNormalization, Flatten, Conv2D, AveragePooling2D, MaxPooling2D, GlobalMaxPooling2D\n",
    "from keras.models import Model, load_model\n",
    "from keras.preprocessing import image\n",
    "from keras.utils import layer_utils\n",
    "from keras.utils.data_utils import get_file\n",
    "from keras.applications.imagenet_utils import preprocess_input\n",
    "import pydot\n",
    "from IPython.display import SVG\n",
    "from keras.utils.vis_utils import model_to_dot\n",
    "from keras.utils import plot_model\n",
    "from resnets_utils import *\n",
    "from keras.initializers import glorot_uniform\n",
    "import scipy.misc\n",
    "from matplotlib.pyplot import imshow\n",
    "%matplotlib inline\n",
    "\n",
    "import keras.backend as K\n",
    "K.set_image_data_format('channels_last')\n",
    "K.set_learning_phase(1)"
   ]
  },
  {
   "cell_type": "code",
   "execution_count": 23,
   "metadata": {},
   "outputs": [
    {
     "data": {
      "text/plain": [
       "'\\n非常深度神经网络的问题所在：\\n1、从少层神经网络(AlexNet)已经发展到深层神经网络，能表示更为复杂的功能，也能从多个层次进行功能抽象，\\n从多个级别进行特征学习。但是出现了新的问题——深度神经网络所带来的梯度消失——深度网络梯度迅速下降为0，从而梯度下降算法很慢\\n2、反向传播实现梯度下降时，每一步都乘以权重矩阵，因而梯度迅速下降为0，极少情况下会增加\\n\\n'"
      ]
     },
     "execution_count": 23,
     "metadata": {},
     "output_type": "execute_result"
    }
   ],
   "source": [
    "'''\n",
    "非常深度神经网络的问题所在：\n",
    "1、从少层神经网络(AlexNet)已经发展到深层神经网络，能表示更为复杂的功能，也能从多个层次进行功能抽象，\n",
    "从多个级别进行特征学习。但是出现了新的问题——深度神经网络所带来的梯度消失——深度网络梯度迅速下降为0，从而梯度下降算法很慢\n",
    "2、反向传播实现梯度下降时，每一步都乘以权重矩阵，因而梯度迅速下降为0，极少情况下会增加\n",
    "\n",
    "'''"
   ]
  },
  {
   "cell_type": "code",
   "execution_count": 24,
   "metadata": {},
   "outputs": [
    {
     "data": {
      "text/plain": [
       "<matplotlib.image.AxesImage at 0x1c20223efd0>"
      ]
     },
     "execution_count": 24,
     "metadata": {},
     "output_type": "execute_result"
    },
    {
     "data": {
      "image/png": "[encoded data removed]",
      "text/plain": [
       "<matplotlib.figure.Figure at 0x1c20241e978>"
      ]
     },
     "metadata": {},
     "output_type": "display_data"
    }
   ],
   "source": [
    "img_path1=\"1.png\"\n",
    "img1=image.load_img(img_path1,interpolation=\"nearest\")\n",
    "imshow(img1)\n",
    "\n",
    "#下图可知：反向传播到第一层时，梯度下降很快，趋近于0——gradient vanish现象"
   ]
  },
  {
   "cell_type": "code",
   "execution_count": 25,
   "metadata": {},
   "outputs": [
    {
     "data": {
      "text/plain": [
       "'\\n建立残差神经网络\\n\\nResNets中，由于采用了shortcut和跳跃连接，反向传播时梯度能直接传递到前一层，减少了梯度损失的机会，\\n从而更适用于构建深层神经网络\\n\\nWe also saw in lecture that having ResNet blocks with the shortcut also makes it very easy \\nfor one of the blocks to learn an identity function. This means that you can stack on additional \\nResNet blocks with little risk of harming training set performance. (There is also some evidence\\nthat the ease of learning an identity function–even more than skip connections helping with\\nvanishing gradients–accounts for ResNets’ remarkable performance.)\\n'"
      ]
     },
     "execution_count": 25,
     "metadata": {},
     "output_type": "execute_result"
    }
   ],
   "source": [
    "'''\n",
    "建立残差神经网络\n",
    "\n",
    "ResNets中，由于采用了shortcut和跳跃连接，反向传播时梯度能直接传递到前一层，减少了梯度损失的机会，\n",
    "从而更适用于构建深层神经网络\n",
    "\n",
    "We also saw in lecture that having ResNet blocks with the shortcut also makes it very easy \n",
    "for one of the blocks to learn an identity function. This means that you can stack on additional \n",
    "ResNet blocks with little risk of harming training set performance. (There is also some evidence\n",
    "that the ease of learning an identity function–even more than skip connections helping with\n",
    "vanishing gradients–accounts for ResNets’ remarkable performance.)\n",
    "'''\n",
    "\n"
   ]
  },
  {
   "cell_type": "code",
   "execution_count": 26,
   "metadata": {},
   "outputs": [
    {
     "data": {
      "text/plain": [
       "'\\n2.1恒等模块实现\\n\\n'"
      ]
     },
     "execution_count": 26,
     "metadata": {},
     "output_type": "execute_result"
    }
   ],
   "source": [
    "'''\n",
    "2.1恒等模块实现\n",
    "\n",
    "'''"
   ]
  },
  {
   "cell_type": "code",
   "execution_count": 31,
   "metadata": {},
   "outputs": [],
   "source": [
    "# GRADED FUNCTION: convolutional_block\n",
    "\n",
    "def convolutional_block(X, f, filters, stage, block, s = 2):\n",
    "    \"\"\"\n",
    "    Implementation of the convolutional block as defined in Figure 4\n",
    "\n",
    "    Arguments:\n",
    "    X -- input tensor of shape (m, n_H_prev, n_W_prev, n_C_prev)\n",
    "    f -- integer, specifying the shape of the middle CONV's window for the main path\n",
    "    filters -- python list of integers, defining the number of filters in the CONV layers of the main path\n",
    "    stage -- integer, used to name the layers, depending on their position in the network\n",
    "    block -- string/character, used to name the layers, depending on their position in the network\n",
    "    s -- Integer, specifying the stride to be used\n",
    "\n",
    "    Returns:\n",
    "    X -- output of the convolutional block, tensor of shape (n_H, n_W, n_C)\n",
    "    \"\"\"\n",
    "\n",
    "    # defining name basis\n",
    "    conv_name_base = 'res' + str(stage) + block + '_branch'\n",
    "    bn_name_base = 'bn' + str(stage) + block + '_branch'\n",
    "\n",
    "    # Retrieve Filters\n",
    "    F1, F2, F3 = filters\n",
    "\n",
    "    # Save the input value\n",
    "    X_shortcut = X\n",
    "\n",
    "\n",
    "    ##### MAIN PATH #####\n",
    "    # First component of main path \n",
    "    X = Conv2D(F1, (1, 1), strides = (s,s), name = conv_name_base + '2a', kernel_initializer = glorot_uniform(seed=0))(X)\n",
    "    X = BatchNormalization(axis = 3, name = bn_name_base + '2a')(X)\n",
    "    X = Activation('relu')(X)\n",
    "\n",
    "    ### START CODE HERE ###\n",
    "\n",
    "    # Second component of main path (≈3 lines)\n",
    "    X = Conv2D(F2, (f, f), strides = (1,1), name = conv_name_base + '2b', padding = 'same', kernel_initializer = glorot_uniform(seed=0))(X)\n",
    "    X = BatchNormalization(axis = 3, name = bn_name_base + '2b')(X)\n",
    "    X = Activation('relu')(X)\n",
    "\n",
    "    # Third component of main path (≈2 lines)\n",
    "    X = Conv2D(F3, (1, 1), strides = (1,1), name = conv_name_base + '2c', kernel_initializer = glorot_uniform(seed=0))(X)\n",
    "    X = BatchNormalization(axis = 3, name = bn_name_base + '2c')(X)\n",
    "\n",
    "    ##### SHORTCUT PATH #### (≈2 lines)\n",
    "    X_shortcut = Conv2D(F3, (1, 1), strides = (s,s), name = conv_name_base + '1', kernel_initializer = glorot_uniform(seed=0))(X_shortcut)\n",
    "    X_shortcut = BatchNormalization(axis = 3, name = bn_name_base + '1')(X_shortcut)\n",
    "\n",
    "    # Final step: Add shortcut value to main path, and pass it through a RELU activation (≈2 lines)\n",
    "    X = Add()([X, X_shortcut])\n",
    "    X = Activation('relu')(X)\n",
    "\n",
    "    ### END CODE HERE ###\n",
    "\n",
    "    return X\n",
    "\n",
    "def identity_block(X,f,filters,stage,block):\n",
    "    \n",
    "    \"\"\"\n",
    "    参数：\n",
    "    输入  X\n",
    "    f     卷积滤波器的size integer\n",
    "    filters 卷积滤波器 list\n",
    "    stage 用于命名神经网络的layers integer\n",
    "    block 用于命名layers string/character\n",
    "    \n",
    "    输出：\n",
    "    X tensor类型\n",
    "    \n",
    "    \"\"\"\n",
    "    #定义 name\n",
    "    conv_name_base=\"res\"+str(stage)+block+\"_branch\"\n",
    "    bn_name_base=\"bn\"+str(stage)+block+\"_branch\"\n",
    "    \n",
    "    #滤波器\n",
    "    F1,F2,F3=filters\n",
    "    \n",
    "    #存储输入值，便于后面shortcut相加\n",
    "    X_shortcut=X\n",
    "    \n",
    "    #第一部分\n",
    "    X=Conv2D(filters=F1,kernel_size=(1,1),strides=(1,1),padding='valid',name=conv_name_base+'2a',kernel_initializer=glorot_uniform(seed=0))(X)\n",
    "    X=BatchNormalization(axis=3,name=bn_name_base+'2a')(X)\n",
    "    X=Activation('relu')(X)\n",
    "    \n",
    "    #第二部分\n",
    "    X=Conv2D(filters=F2,kernel_size = (1, 1), strides = (1,1), padding = 'valid', name = conv_name_base + '2b', kernel_initializer = glorot_uniform(seed=0))(X)\n",
    "    X=BatchNormalization(axis=3,name=bn_name_base+'2b')(X)\n",
    "    X=Activation('relu')(X)\n",
    "    \n",
    "    #第三部分\n",
    "    X = Conv2D(filters = F3, kernel_size = (1, 1), strides = (1,1), padding = 'valid', name = conv_name_base + '2c', kernel_initializer = glorot_uniform(seed=0))(X)\n",
    "    X = BatchNormalization(axis = 3, name = bn_name_base + '2c')(X)\n",
    "    \n",
    "    #最后一步\n",
    "    X=Add()([X,X_shortcut])\n",
    "    X=Activation('relu')(X)\n",
    "    \n",
    "    return X"
   ]
  },
  {
   "cell_type": "code",
   "execution_count": 28,
   "metadata": {},
   "outputs": [
    {
     "name": "stdout",
     "output_type": "stream",
     "text": [
      "out=[0.27030745 0.         1.7505068  2.1199005  0.         1.2631985 ]\n"
     ]
    }
   ],
   "source": [
    "#测试\n",
    "tf.reset_default_graph()\n",
    "with tf.Session() as test:\n",
    "    np.random.seed(1)\n",
    "    A_prev=tf.placeholder(\"float\",[3,4,4,6])\n",
    "    X=np.random.randn(3,4,4,6)\n",
    "    A=identity_block(A_prev,f=2,filters=[2,4,6],stage=1,block='a')\n",
    "    test.run(tf.global_variables_initializer())\n",
    "    out=test.run([A],feed_dict={A_prev:X,K.learning_phase():0})\n",
    "    print(\"out=\"+str(out[0][1][1][0]))"
   ]
  },
  {
   "cell_type": "code",
   "execution_count": 44,
   "metadata": {},
   "outputs": [],
   "source": [
    "#3、建立第一个残差神经网络\n",
    "def ResNet50(input_shape = (64, 64, 3), classes = 6):\n",
    "    \"\"\"\n",
    "    Implementation of the popular ResNet50 the following architecture:\n",
    "    CONV2D -> BATCHNORM -> RELU -> MAXPOOL -> CONVBLOCK -> IDBLOCK*2 -> CONVBLOCK -> IDBLOCK*3\n",
    "    -> CONVBLOCK -> IDBLOCK*5 -> CONVBLOCK -> IDBLOCK*2 -> AVGPOOL -> TOPLAYER\n",
    "\n",
    "    Arguments:\n",
    "    input_shape -- shape of the images of the dataset\n",
    "    classes -- integer, number of classes\n",
    "\n",
    "    Returns:\n",
    "    model -- a Model() instance in Keras\n",
    "    \"\"\"\n",
    "\n",
    "    # Define the input as a tensor with shape input_shape\n",
    "    X_input = Input(input_shape)\n",
    "\n",
    "\n",
    "    # Zero-Padding\n",
    "    X = ZeroPadding2D((3, 3))(X_input)\n",
    "\n",
    "    # Stage 1\n",
    "    X = Conv2D(64, (7, 7), strides = (2, 2), name = 'conv1', kernel_initializer = glorot_uniform(seed=0))(X)\n",
    "    X = BatchNormalization(axis = 3, name = 'bn_conv1')(X)\n",
    "    X = Activation('relu')(X)\n",
    "    X = MaxPooling2D((3, 3), strides=(2, 2))(X)\n",
    "\n",
    "    # Stage 2\n",
    "    X = convolutional_block(X, f = 3, filters = [64, 64, 256], stage = 2, block='a', s = 1)\n",
    "    X = identity_block(X, 3, [64, 64, 256], stage=2, block='b')\n",
    "    X = identity_block(X, 3, [64, 64, 256], stage=2, block='c')\n",
    "\n",
    "    ### START CODE HERE ###\n",
    "\n",
    "    # Stage 3 (≈4 lines)\n",
    "    X = convolutional_block(X, f = 3, filters = [128, 128, 512], stage = 3, block='a', s = 2)\n",
    "    X = identity_block(X, 3, [128, 128, 512], stage=3, block='b')\n",
    "    X = identity_block(X, 3, [128, 128, 512], stage=3, block='c')\n",
    "    X = identity_block(X, 3, [128, 128, 512], stage=3, block='d')\n",
    "\n",
    "    # Stage 4 (≈6 lines)\n",
    "    X = convolutional_block(X, f = 3, filters = [256, 256, 1024], stage = 4, block='a', s = 2)\n",
    "    X = identity_block(X, 3, [256, 256, 1024], stage=4, block='b')\n",
    "    X = identity_block(X, 3, [256, 256, 1024], stage=4, block='c')\n",
    "    X = identity_block(X, 3, [256, 256, 1024], stage=4, block='d')\n",
    "    X = identity_block(X, 3, [256, 256, 1024], stage=4, block='e')\n",
    "    X = identity_block(X, 3, [256, 256, 1024], stage=4, block='f')\n",
    "\n",
    "    # Stage 5 (≈3 lines)\n",
    "    X = convolutional_block(X, f = 3, filters = [512, 512, 2048], stage = 5, block='a', s = 2)\n",
    "    X = identity_block(X, 3, [512, 512, 2048], stage=5, block='b')\n",
    "    X = identity_block(X, 3, [512, 512, 2048], stage=5, block='c')\n",
    "\n",
    "    # AVGPOOL (≈1 line). Use \"X = AveragePooling2D(...)(X)\"\n",
    "    X = AveragePooling2D((2, 2), name='avg_pool')(X)\n",
    "\n",
    "    ### END CODE HERE ###\n",
    "\n",
    "    # output layer\n",
    "    X = Flatten()(X)\n",
    "    X = Dense(classes, activation='softmax', name='fc' + str(classes), kernel_initializer = glorot_uniform(seed=0))(X)\n",
    "\n",
    "\n",
    "    # Create model\n",
    "    model = Model(inputs = X_input, outputs = X, name='ResNet50')\n",
    "\n",
    "    return model"
   ]
  },
  {
   "cell_type": "code",
   "execution_count": 49,
   "metadata": {},
   "outputs": [],
   "source": [
    "import keras\n",
    "keras.backend.clear_session() \n",
    "#以上内容必不可少，少了会报错。ValueError: Tensor Tensor(“Placeholder:0”, shape=(3, 3, 1, 32), dtype=float32) is no an element of this graph\n",
    "#因为之前训练的model会影响当前训练的model\n",
    "\n",
    "model = ResNet50(input_shape = (64, 64, 3), classes = 6)\n",
    "model.compile(optimizer='adam', loss='categorical_crossentropy', metrics=['accuracy'])"
   ]
  },
  {
   "cell_type": "code",
   "execution_count": 50,
   "metadata": {},
   "outputs": [
    {
     "name": "stdout",
     "output_type": "stream",
     "text": [
      "number of training examples = 1080\n",
      "number of test examples = 120\n",
      "X_train shape: (1080, 64, 64, 3)\n",
      "Y_train shape: (1080, 6)\n",
      "X_test shape: (120, 64, 64, 3)\n",
      "Y_test shape: (120, 6)\n"
     ]
    }
   ],
   "source": [
    "from resnets_utils import *\n",
    "X_train_orig, Y_train_orig, X_test_orig, Y_test_orig, classes = load_dataset()\n",
    "\n",
    "# Normalize image vectors\n",
    "X_train = X_train_orig/255.\n",
    "X_test = X_test_orig/255.\n",
    "\n",
    "# Convert training and test labels to one hot matrices\n",
    "Y_train = convert_to_one_hot(Y_train_orig, 6).T\n",
    "Y_test = convert_to_one_hot(Y_test_orig, 6).T\n",
    "\n",
    "print (\"number of training examples = \" + str(X_train.shape[0]))\n",
    "print (\"number of test examples = \" + str(X_test.shape[0]))\n",
    "print (\"X_train shape: \" + str(X_train.shape))\n",
    "print (\"Y_train shape: \" + str(Y_train.shape))\n",
    "print (\"X_test shape: \" + str(X_test.shape))\n",
    "print (\"Y_test shape: \" + str(Y_test.shape))"
   ]
  },
  {
   "cell_type": "code",
   "execution_count": 51,
   "metadata": {},
   "outputs": [
    {
     "name": "stdout",
     "output_type": "stream",
     "text": [
      "Epoch 1/2\n",
      "1080/1080 [==============================] - 155s 143ms/step - loss: 2.1803 - acc: 0.4093\n",
      "Epoch 2/2\n",
      "1080/1080 [==============================] - 142s 132ms/step - loss: 0.8695 - acc: 0.6583\n"
     ]
    },
    {
     "data": {
      "text/plain": [
       "<keras.callbacks.History at 0x1c238682b38>"
      ]
     },
     "execution_count": 51,
     "metadata": {},
     "output_type": "execute_result"
    }
   ],
   "source": [
    "model.fit(X_train,Y_train,epochs=2,batch_size=32)"
   ]
  },
  {
   "cell_type": "code",
   "execution_count": 55,
   "metadata": {},
   "outputs": [
    {
     "name": "stdout",
     "output_type": "stream",
     "text": [
      "120/120 [==============================] - 4s 30ms/step\n",
      "Loss=13.136192385355631\n",
      "Test Accuracy=0.16666666716337203\n",
      "[13.136192385355631, 0.16666666716337203]\n"
     ]
    }
   ],
   "source": [
    "preds=model.evaluate(X_test,Y_test)\n",
    "print(\"Loss=\"+str(preds[0]))\n",
    "print(\"Test Accuracy=\"+str(preds[1]))\n",
    "print(preds)"
   ]
  },
  {
   "cell_type": "code",
   "execution_count": 57,
   "metadata": {},
   "outputs": [
    {
     "ename": "OSError",
     "evalue": "Unable to open file (file signature not found)",
     "output_type": "error",
     "traceback": [
      "\u001b[1;31m---------------------------------------------------------------------------\u001b[0m",
      "\u001b[1;31mOSError\u001b[0m                                   Traceback (most recent call last)",
      "\u001b[1;32m<ipython-input-57-8119a2a2ed18>\u001b[0m in \u001b[0;36m<module>\u001b[1;34m()\u001b[0m\n\u001b[1;32m----> 1\u001b[1;33m \u001b[0mmodel\u001b[0m \u001b[1;33m=\u001b[0m \u001b[0mload_model\u001b[0m\u001b[1;33m(\u001b[0m\u001b[1;34m'ResNet50.h5'\u001b[0m\u001b[1;33m)\u001b[0m\u001b[1;33m\u001b[0m\u001b[0m\n\u001b[0m",
      "\u001b[1;32mc:\\program files\\python36\\lib\\site-packages\\keras\\models.py\u001b[0m in \u001b[0;36mload_model\u001b[1;34m(filepath, custom_objects, compile)\u001b[0m\n\u001b[0;32m    235\u001b[0m             \u001b[1;32mreturn\u001b[0m \u001b[0mcustom_objects\u001b[0m\u001b[1;33m[\u001b[0m\u001b[0mobj\u001b[0m\u001b[1;33m]\u001b[0m\u001b[1;33m\u001b[0m\u001b[0m\n\u001b[0;32m    236\u001b[0m         \u001b[1;32mreturn\u001b[0m \u001b[0mobj\u001b[0m\u001b[1;33m\u001b[0m\u001b[0m\n\u001b[1;32m--> 237\u001b[1;33m     \u001b[1;32mwith\u001b[0m \u001b[0mh5py\u001b[0m\u001b[1;33m.\u001b[0m\u001b[0mFile\u001b[0m\u001b[1;33m(\u001b[0m\u001b[0mfilepath\u001b[0m\u001b[1;33m,\u001b[0m \u001b[0mmode\u001b[0m\u001b[1;33m=\u001b[0m\u001b[1;34m'r'\u001b[0m\u001b[1;33m)\u001b[0m \u001b[1;32mas\u001b[0m \u001b[0mf\u001b[0m\u001b[1;33m:\u001b[0m\u001b[1;33m\u001b[0m\u001b[0m\n\u001b[0m\u001b[0;32m    238\u001b[0m         \u001b[1;31m# instantiate model\u001b[0m\u001b[1;33m\u001b[0m\u001b[1;33m\u001b[0m\u001b[0m\n\u001b[0;32m    239\u001b[0m         \u001b[0mmodel_config\u001b[0m \u001b[1;33m=\u001b[0m \u001b[0mf\u001b[0m\u001b[1;33m.\u001b[0m\u001b[0mattrs\u001b[0m\u001b[1;33m.\u001b[0m\u001b[0mget\u001b[0m\u001b[1;33m(\u001b[0m\u001b[1;34m'model_config'\u001b[0m\u001b[1;33m)\u001b[0m\u001b[1;33m\u001b[0m\u001b[0m\n",
      "\u001b[1;32mc:\\program files\\python36\\lib\\site-packages\\h5py\\_hl\\files.py\u001b[0m in \u001b[0;36m__init__\u001b[1;34m(self, name, mode, driver, libver, userblock_size, swmr, **kwds)\u001b[0m\n\u001b[0;32m    267\u001b[0m             \u001b[1;32mwith\u001b[0m \u001b[0mphil\u001b[0m\u001b[1;33m:\u001b[0m\u001b[1;33m\u001b[0m\u001b[0m\n\u001b[0;32m    268\u001b[0m                 \u001b[0mfapl\u001b[0m \u001b[1;33m=\u001b[0m \u001b[0mmake_fapl\u001b[0m\u001b[1;33m(\u001b[0m\u001b[0mdriver\u001b[0m\u001b[1;33m,\u001b[0m \u001b[0mlibver\u001b[0m\u001b[1;33m,\u001b[0m \u001b[1;33m**\u001b[0m\u001b[0mkwds\u001b[0m\u001b[1;33m)\u001b[0m\u001b[1;33m\u001b[0m\u001b[0m\n\u001b[1;32m--> 269\u001b[1;33m                 \u001b[0mfid\u001b[0m \u001b[1;33m=\u001b[0m \u001b[0mmake_fid\u001b[0m\u001b[1;33m(\u001b[0m\u001b[0mname\u001b[0m\u001b[1;33m,\u001b[0m \u001b[0mmode\u001b[0m\u001b[1;33m,\u001b[0m \u001b[0muserblock_size\u001b[0m\u001b[1;33m,\u001b[0m \u001b[0mfapl\u001b[0m\u001b[1;33m,\u001b[0m \u001b[0mswmr\u001b[0m\u001b[1;33m=\u001b[0m\u001b[0mswmr\u001b[0m\u001b[1;33m)\u001b[0m\u001b[1;33m\u001b[0m\u001b[0m\n\u001b[0m\u001b[0;32m    270\u001b[0m \u001b[1;33m\u001b[0m\u001b[0m\n\u001b[0;32m    271\u001b[0m                 \u001b[1;32mif\u001b[0m \u001b[0mswmr_support\u001b[0m\u001b[1;33m:\u001b[0m\u001b[1;33m\u001b[0m\u001b[0m\n",
      "\u001b[1;32mc:\\program files\\python36\\lib\\site-packages\\h5py\\_hl\\files.py\u001b[0m in \u001b[0;36mmake_fid\u001b[1;34m(name, mode, userblock_size, fapl, fcpl, swmr)\u001b[0m\n\u001b[0;32m     97\u001b[0m         \u001b[1;32mif\u001b[0m \u001b[0mswmr\u001b[0m \u001b[1;32mand\u001b[0m \u001b[0mswmr_support\u001b[0m\u001b[1;33m:\u001b[0m\u001b[1;33m\u001b[0m\u001b[0m\n\u001b[0;32m     98\u001b[0m             \u001b[0mflags\u001b[0m \u001b[1;33m|=\u001b[0m \u001b[0mh5f\u001b[0m\u001b[1;33m.\u001b[0m\u001b[0mACC_SWMR_READ\u001b[0m\u001b[1;33m\u001b[0m\u001b[0m\n\u001b[1;32m---> 99\u001b[1;33m         \u001b[0mfid\u001b[0m \u001b[1;33m=\u001b[0m \u001b[0mh5f\u001b[0m\u001b[1;33m.\u001b[0m\u001b[0mopen\u001b[0m\u001b[1;33m(\u001b[0m\u001b[0mname\u001b[0m\u001b[1;33m,\u001b[0m \u001b[0mflags\u001b[0m\u001b[1;33m,\u001b[0m \u001b[0mfapl\u001b[0m\u001b[1;33m=\u001b[0m\u001b[0mfapl\u001b[0m\u001b[1;33m)\u001b[0m\u001b[1;33m\u001b[0m\u001b[0m\n\u001b[0m\u001b[0;32m    100\u001b[0m     \u001b[1;32melif\u001b[0m \u001b[0mmode\u001b[0m \u001b[1;33m==\u001b[0m \u001b[1;34m'r+'\u001b[0m\u001b[1;33m:\u001b[0m\u001b[1;33m\u001b[0m\u001b[0m\n\u001b[0;32m    101\u001b[0m         \u001b[0mfid\u001b[0m \u001b[1;33m=\u001b[0m \u001b[0mh5f\u001b[0m\u001b[1;33m.\u001b[0m\u001b[0mopen\u001b[0m\u001b[1;33m(\u001b[0m\u001b[0mname\u001b[0m\u001b[1;33m,\u001b[0m \u001b[0mh5f\u001b[0m\u001b[1;33m.\u001b[0m\u001b[0mACC_RDWR\u001b[0m\u001b[1;33m,\u001b[0m \u001b[0mfapl\u001b[0m\u001b[1;33m=\u001b[0m\u001b[0mfapl\u001b[0m\u001b[1;33m)\u001b[0m\u001b[1;33m\u001b[0m\u001b[0m\n",
      "\u001b[1;32mh5py\\_objects.pyx\u001b[0m in \u001b[0;36mh5py._objects.with_phil.wrapper\u001b[1;34m()\u001b[0m\n",
      "\u001b[1;32mh5py\\_objects.pyx\u001b[0m in \u001b[0;36mh5py._objects.with_phil.wrapper\u001b[1;34m()\u001b[0m\n",
      "\u001b[1;32mh5py\\h5f.pyx\u001b[0m in \u001b[0;36mh5py.h5f.open\u001b[1;34m()\u001b[0m\n",
      "\u001b[1;31mOSError\u001b[0m: Unable to open file (file signature not found)"
     ]
    }
   ],
   "source": [
    "#因为.ResNet50.h5文件太大，所以此处略过"
   ]
  },
  {
   "cell_type": "code",
   "execution_count": null,
   "metadata": {},
   "outputs": [],
   "source": []
  },
  {
   "cell_type": "code",
   "execution_count": null,
   "metadata": {},
   "outputs": [],
   "source": []
  },
  {
   "cell_type": "code",
   "execution_count": null,
   "metadata": {},
   "outputs": [],
   "source": []
  },
  {
   "cell_type": "code",
   "execution_count": null,
   "metadata": {},
   "outputs": [],
   "source": []
  },
  {
   "cell_type": "code",
   "execution_count": null,
   "metadata": {},
   "outputs": [],
   "source": []
  },
  {
   "cell_type": "code",
   "execution_count": null,
   "metadata": {},
   "outputs": [],
   "source": []
  },
  {
   "cell_type": "code",
   "execution_count": null,
   "metadata": {},
   "outputs": [],
   "source": []
  },
  {
   "cell_type": "code",
   "execution_count": null,
   "metadata": {},
   "outputs": [],
   "source": []
  },
  {
   "cell_type": "code",
   "execution_count": null,
   "metadata": {},
   "outputs": [],
   "source": []
  },
  {
   "cell_type": "code",
   "execution_count": null,
   "metadata": {},
   "outputs": [],
   "source": []
  },
  {
   "cell_type": "code",
   "execution_count": null,
   "metadata": {},
   "outputs": [],
   "source": []
  },
  {
   "cell_type": "code",
   "execution_count": null,
   "metadata": {},
   "outputs": [],
   "source": []
  },
  {
   "cell_type": "code",
   "execution_count": null,
   "metadata": {},
   "outputs": [],
   "source": []
  },
  {
   "cell_type": "code",
   "execution_count": null,
   "metadata": {},
   "outputs": [],
   "source": []
  },
  {
   "cell_type": "code",
   "execution_count": null,
   "metadata": {},
   "outputs": [],
   "source": []
  },
  {
   "cell_type": "code",
   "execution_count": null,
   "metadata": {},
   "outputs": [],
   "source": []
  },
  {
   "cell_type": "code",
   "execution_count": null,
   "metadata": {},
   "outputs": [],
   "source": []
  },
  {
   "cell_type": "code",
   "execution_count": null,
   "metadata": {},
   "outputs": [],
   "source": []
  },
  {
   "cell_type": "code",
   "execution_count": null,
   "metadata": {},
   "outputs": [],
   "source": []
  },
  {
   "cell_type": "code",
   "execution_count": null,
   "metadata": {},
   "outputs": [],
   "source": []
  },
  {
   "cell_type": "code",
   "execution_count": null,
   "metadata": {},
   "outputs": [],
   "source": []
  },
  {
   "cell_type": "code",
   "execution_count": null,
   "metadata": {},
   "outputs": [],
   "source": []
  },
  {
   "cell_type": "code",
   "execution_count": null,
   "metadata": {},
   "outputs": [],
   "source": []
  },
  {
   "cell_type": "code",
   "execution_count": null,
   "metadata": {},
   "outputs": [],
   "source": []
  },
  {
   "cell_type": "code",
   "execution_count": null,
   "metadata": {},
   "outputs": [],
   "source": []
  },
  {
   "cell_type": "code",
   "execution_count": null,
   "metadata": {},
   "outputs": [],
   "source": []
  },
  {
   "cell_type": "code",
   "execution_count": null,
   "metadata": {},
   "outputs": [],
   "source": []
  },
  {
   "cell_type": "code",
   "execution_count": null,
   "metadata": {},
   "outputs": [],
   "source": []
  },
  {
   "cell_type": "code",
   "execution_count": null,
   "metadata": {},
   "outputs": [],
   "source": []
  },
  {
   "cell_type": "code",
   "execution_count": null,
   "metadata": {},
   "outputs": [],
   "source": []
  },
  {
   "cell_type": "code",
   "execution_count": null,
   "metadata": {},
   "outputs": [],
   "source": []
  },
  {
   "cell_type": "code",
   "execution_count": null,
   "metadata": {},
   "outputs": [],
   "source": []
  },
  {
   "cell_type": "code",
   "execution_count": null,
   "metadata": {},
   "outputs": [],
   "source": []
  },
  {
   "cell_type": "code",
   "execution_count": null,
   "metadata": {},
   "outputs": [],
   "source": []
  },
  {
   "cell_type": "code",
   "execution_count": null,
   "metadata": {},
   "outputs": [],
   "source": []
  },
  {
   "cell_type": "code",
   "execution_count": null,
   "metadata": {},
   "outputs": [],
   "source": []
  },
  {
   "cell_type": "code",
   "execution_count": null,
   "metadata": {},
   "outputs": [],
   "source": []
  },
  {
   "cell_type": "code",
   "execution_count": null,
   "metadata": {},
   "outputs": [],
   "source": []
  },
  {
   "cell_type": "code",
   "execution_count": null,
   "metadata": {},
   "outputs": [],
   "source": []
  },
  {
   "cell_type": "code",
   "execution_count": null,
   "metadata": {},
   "outputs": [],
   "source": []
  },
  {
   "cell_type": "code",
   "execution_count": null,
   "metadata": {},
   "outputs": [],
   "source": []
  },
  {
   "cell_type": "code",
   "execution_count": null,
   "metadata": {},
   "outputs": [],
   "source": []
  },
  {
   "cell_type": "code",
   "execution_count": null,
   "metadata": {},
   "outputs": [],
   "source": []
  },
  {
   "cell_type": "code",
   "execution_count": null,
   "metadata": {},
   "outputs": [],
   "source": []
  },
  {
   "cell_type": "code",
   "execution_count": null,
   "metadata": {},
   "outputs": [],
   "source": []
  },
  {
   "cell_type": "code",
   "execution_count": null,
   "metadata": {},
   "outputs": [],
   "source": []
  },
  {
   "cell_type": "code",
   "execution_count": null,
   "metadata": {},
   "outputs": [],
   "source": []
  },
  {
   "cell_type": "code",
   "execution_count": null,
   "metadata": {},
   "outputs": [],
   "source": []
  },
  {
   "cell_type": "code",
   "execution_count": null,
   "metadata": {},
   "outputs": [],
   "source": []
  },
  {
   "cell_type": "code",
   "execution_count": null,
   "metadata": {},
   "outputs": [],
   "source": []
  },
  {
   "cell_type": "code",
   "execution_count": null,
   "metadata": {},
   "outputs": [],
   "source": []
  },
  {
   "cell_type": "code",
   "execution_count": null,
   "metadata": {},
   "outputs": [],
   "source": []
  },
  {
   "cell_type": "code",
   "execution_count": null,
   "metadata": {},
   "outputs": [],
   "source": []
  },
  {
   "cell_type": "code",
   "execution_count": null,
   "metadata": {},
   "outputs": [],
   "source": []
  },
  {
   "cell_type": "code",
   "execution_count": null,
   "metadata": {},
   "outputs": [],
   "source": []
  },
  {
   "cell_type": "code",
   "execution_count": null,
   "metadata": {},
   "outputs": [],
   "source": []
  },
  {
   "cell_type": "code",
   "execution_count": null,
   "metadata": {},
   "outputs": [],
   "source": []
  },
  {
   "cell_type": "code",
   "execution_count": null,
   "metadata": {},
   "outputs": [],
   "source": []
  },
  {
   "cell_type": "code",
   "execution_count": null,
   "metadata": {},
   "outputs": [],
   "source": []
  },
  {
   "cell_type": "code",
   "execution_count": null,
   "metadata": {},
   "outputs": [],
   "source": []
  },
  {
   "cell_type": "code",
   "execution_count": null,
   "metadata": {},
   "outputs": [],
   "source": []
  },
  {
   "cell_type": "code",
   "execution_count": null,
   "metadata": {},
   "outputs": [],
   "source": []
  },
  {
   "cell_type": "code",
   "execution_count": null,
   "metadata": {},
   "outputs": [],
   "source": []
  },
  {
   "cell_type": "code",
   "execution_count": null,
   "metadata": {},
   "outputs": [],
   "source": []
  },
  {
   "cell_type": "code",
   "execution_count": null,
   "metadata": {},
   "outputs": [],
   "source": []
  },
  {
   "cell_type": "code",
   "execution_count": null,
   "metadata": {},
   "outputs": [],
   "source": []
  },
  {
   "cell_type": "code",
   "execution_count": null,
   "metadata": {},
   "outputs": [],
   "source": []
  },
  {
   "cell_type": "code",
   "execution_count": null,
   "metadata": {},
   "outputs": [],
   "source": []
  },
  {
   "cell_type": "code",
   "execution_count": null,
   "metadata": {},
   "outputs": [],
   "source": []
  },
  {
   "cell_type": "code",
   "execution_count": null,
   "metadata": {},
   "outputs": [],
   "source": []
  },
  {
   "cell_type": "code",
   "execution_count": null,
   "metadata": {},
   "outputs": [],
   "source": []
  }
 ],
 "metadata": {
  "kernelspec": {
   "display_name": "Python 3",
   "language": "python",
   "name": "python3"
  },
  "language_info": {
   "codemirror_mode": {
    "name": "ipython",
    "version": 3
   },
   "file_extension": ".py",
   "mimetype": "text/x-python",
   "name": "python",
   "nbconvert_exporter": "python",
   "pygments_lexer": "ipython3",
   "version": "3.6.3"
  }
 },
 "nbformat": 4,
 "nbformat_minor": 2
}
